{
 "cells": [
  {
   "cell_type": "markdown",
   "id": "d1228330",
   "metadata": {
    "papermill": {
     "duration": 0.005603,
     "end_time": "2024-05-07T21:17:18.831704",
     "exception": false,
     "start_time": "2024-05-07T21:17:18.826101",
     "status": "completed"
    },
    "tags": []
   },
   "source": [
    "# Feasibility Analysis for Luxury Multi-Sensory Dining Experiences Across Three Countries"
   ]
  },
  {
   "cell_type": "markdown",
   "id": "a2302573",
   "metadata": {
    "papermill": {
     "duration": 0.004835,
     "end_time": "2024-05-07T21:17:18.841886",
     "exception": false,
     "start_time": "2024-05-07T21:17:18.837051",
     "status": "completed"
    },
    "tags": []
   },
   "source": [
    "In this analysis, we explore the viability of establishing luxury restaurants offering multi-sensory dining experiences in three distinct countries: Mexico, the Netherlands, and Turkey. This study forms part of a broader assessment, employing multiple filters to identify ideal locations for such innovative dining concepts. By evaluating local preferences through review ratios and overall star ratings, this notebook aims to provide insights into consumer satisfaction and potential market receptivity in each selected country."
   ]
  },
  {
   "cell_type": "code",
   "execution_count": 1,
   "id": "2e8abb96",
   "metadata": {
    "execution": {
     "iopub.execute_input": "2024-05-07T21:17:18.854339Z",
     "iopub.status.busy": "2024-05-07T21:17:18.853262Z",
     "iopub.status.idle": "2024-05-07T21:17:20.774600Z",
     "shell.execute_reply": "2024-05-07T21:17:20.773424Z"
    },
    "papermill": {
     "duration": 1.930293,
     "end_time": "2024-05-07T21:17:20.777202",
     "exception": false,
     "start_time": "2024-05-07T21:17:18.846909",
     "status": "completed"
    },
    "tags": []
   },
   "outputs": [],
   "source": [
    "import json\n",
    "import os\n",
    "import pandas as pd\n",
    "import numpy as np\n",
    "import matplotlib.pyplot as plt\n",
    "import seaborn as sns\n",
    "pd.set_option('display.max_rows', None)"
   ]
  },
  {
   "cell_type": "code",
   "execution_count": 2,
   "id": "5e014e1b",
   "metadata": {
    "execution": {
     "iopub.execute_input": "2024-05-07T21:17:20.790335Z",
     "iopub.status.busy": "2024-05-07T21:17:20.789233Z",
     "iopub.status.idle": "2024-05-07T21:17:21.212923Z",
     "shell.execute_reply": "2024-05-07T21:17:21.211844Z"
    },
    "papermill": {
     "duration": 0.432767,
     "end_time": "2024-05-07T21:17:21.215424",
     "exception": false,
     "start_time": "2024-05-07T21:17:20.782657",
     "status": "completed"
    },
    "tags": []
   },
   "outputs": [],
   "source": [
    "path = '/kaggle/input/multi-sensory-restaurant-smalldata/TRIP_AD_DATASET.xlsx'\n",
    "df = pd.read_excel(path)"
   ]
  },
  {
   "cell_type": "code",
   "execution_count": 3,
   "id": "8c5ee87a",
   "metadata": {
    "execution": {
     "iopub.execute_input": "2024-05-07T21:17:21.228327Z",
     "iopub.status.busy": "2024-05-07T21:17:21.227439Z",
     "iopub.status.idle": "2024-05-07T21:17:21.235113Z",
     "shell.execute_reply": "2024-05-07T21:17:21.234131Z"
    },
    "papermill": {
     "duration": 0.016341,
     "end_time": "2024-05-07T21:17:21.237292",
     "exception": false,
     "start_time": "2024-05-07T21:17:21.220951",
     "status": "completed"
    },
    "tags": []
   },
   "outputs": [
    {
     "data": {
      "text/plain": [
       "(15, 10)"
      ]
     },
     "execution_count": 3,
     "metadata": {},
     "output_type": "execute_result"
    }
   ],
   "source": [
    "df.shape"
   ]
  },
  {
   "cell_type": "code",
   "execution_count": 4,
   "id": "2a861257",
   "metadata": {
    "execution": {
     "iopub.execute_input": "2024-05-07T21:17:21.250134Z",
     "iopub.status.busy": "2024-05-07T21:17:21.249330Z",
     "iopub.status.idle": "2024-05-07T21:17:21.270758Z",
     "shell.execute_reply": "2024-05-07T21:17:21.269694Z"
    },
    "papermill": {
     "duration": 0.030294,
     "end_time": "2024-05-07T21:17:21.273025",
     "exception": false,
     "start_time": "2024-05-07T21:17:21.242731",
     "status": "completed"
    },
    "tags": []
   },
   "outputs": [
    {
     "data": {
      "text/html": [
       "<div>\n",
       "<style scoped>\n",
       "    .dataframe tbody tr th:only-of-type {\n",
       "        vertical-align: middle;\n",
       "    }\n",
       "\n",
       "    .dataframe tbody tr th {\n",
       "        vertical-align: top;\n",
       "    }\n",
       "\n",
       "    .dataframe thead th {\n",
       "        text-align: right;\n",
       "    }\n",
       "</style>\n",
       "<table border=\"1\" class=\"dataframe\">\n",
       "  <thead>\n",
       "    <tr style=\"text-align: right;\">\n",
       "      <th></th>\n",
       "      <th>COUNTRY</th>\n",
       "      <th>RESTAURANT</th>\n",
       "      <th>FIVE</th>\n",
       "      <th>FOUR</th>\n",
       "      <th>THREE</th>\n",
       "      <th>TWO</th>\n",
       "      <th>ONE</th>\n",
       "      <th>TOTAL_REV</th>\n",
       "      <th>OVERALL</th>\n",
       "      <th>CP</th>\n",
       "    </tr>\n",
       "  </thead>\n",
       "  <tbody>\n",
       "    <tr>\n",
       "      <th>0</th>\n",
       "      <td>NETHERLANDS</td>\n",
       "      <td>Flore</td>\n",
       "      <td>606</td>\n",
       "      <td>116</td>\n",
       "      <td>34</td>\n",
       "      <td>24</td>\n",
       "      <td>17</td>\n",
       "      <td>797</td>\n",
       "      <td>4.593476</td>\n",
       "      <td>821752</td>\n",
       "    </tr>\n",
       "    <tr>\n",
       "      <th>1</th>\n",
       "      <td>NETHERLANDS</td>\n",
       "      <td>Mediamantic Eten</td>\n",
       "      <td>22</td>\n",
       "      <td>4</td>\n",
       "      <td>2</td>\n",
       "      <td>2</td>\n",
       "      <td>3</td>\n",
       "      <td>33</td>\n",
       "      <td>4.212121</td>\n",
       "      <td>821752</td>\n",
       "    </tr>\n",
       "    <tr>\n",
       "      <th>2</th>\n",
       "      <td>NETHERLANDS</td>\n",
       "      <td>Belleza</td>\n",
       "      <td>123</td>\n",
       "      <td>7</td>\n",
       "      <td>4</td>\n",
       "      <td>3</td>\n",
       "      <td>0</td>\n",
       "      <td>137</td>\n",
       "      <td>4.824818</td>\n",
       "      <td>821752</td>\n",
       "    </tr>\n",
       "    <tr>\n",
       "      <th>3</th>\n",
       "      <td>NETHERLANDS</td>\n",
       "      <td>Nela</td>\n",
       "      <td>9</td>\n",
       "      <td>5</td>\n",
       "      <td>2</td>\n",
       "      <td>2</td>\n",
       "      <td>4</td>\n",
       "      <td>22</td>\n",
       "      <td>3.590909</td>\n",
       "      <td>821752</td>\n",
       "    </tr>\n",
       "    <tr>\n",
       "      <th>4</th>\n",
       "      <td>NETHERLANDS</td>\n",
       "      <td>REM</td>\n",
       "      <td>15</td>\n",
       "      <td>7</td>\n",
       "      <td>1</td>\n",
       "      <td>3</td>\n",
       "      <td>1</td>\n",
       "      <td>27</td>\n",
       "      <td>4.185185</td>\n",
       "      <td>821752</td>\n",
       "    </tr>\n",
       "  </tbody>\n",
       "</table>\n",
       "</div>"
      ],
      "text/plain": [
       "       COUNTRY        RESTAURANT  FIVE  FOUR  THREE  TWO  ONE  TOTAL_REV  \\\n",
       "0  NETHERLANDS             Flore   606   116     34   24   17        797   \n",
       "1  NETHERLANDS  Mediamantic Eten    22     4      2    2    3         33   \n",
       "2  NETHERLANDS           Belleza   123     7      4    3    0        137   \n",
       "3  NETHERLANDS              Nela     9     5      2    2    4         22   \n",
       "4  NETHERLANDS               REM    15     7      1    3    1         27   \n",
       "\n",
       "    OVERALL      CP  \n",
       "0  4.593476  821752  \n",
       "1  4.212121  821752  \n",
       "2  4.824818  821752  \n",
       "3  3.590909  821752  \n",
       "4  4.185185  821752  "
      ]
     },
     "execution_count": 4,
     "metadata": {},
     "output_type": "execute_result"
    }
   ],
   "source": [
    "df.head()"
   ]
  },
  {
   "cell_type": "code",
   "execution_count": 5,
   "id": "6792a629",
   "metadata": {
    "execution": {
     "iopub.execute_input": "2024-05-07T21:17:21.286576Z",
     "iopub.status.busy": "2024-05-07T21:17:21.285903Z",
     "iopub.status.idle": "2024-05-07T21:17:21.291520Z",
     "shell.execute_reply": "2024-05-07T21:17:21.290540Z"
    },
    "papermill": {
     "duration": 0.015134,
     "end_time": "2024-05-07T21:17:21.293823",
     "exception": false,
     "start_time": "2024-05-07T21:17:21.278689",
     "status": "completed"
    },
    "tags": []
   },
   "outputs": [
    {
     "name": "stdout",
     "output_type": "stream",
     "text": [
      "Index(['COUNTRY', 'RESTAURANT', 'FIVE', 'FOUR', 'THREE', 'TWO', 'ONE',\n",
      "       'TOTAL_REV', 'OVERALL', 'CP'],\n",
      "      dtype='object')\n"
     ]
    }
   ],
   "source": [
    "print(df.columns)"
   ]
  },
  {
   "cell_type": "code",
   "execution_count": 6,
   "id": "ea6edebd",
   "metadata": {
    "execution": {
     "iopub.execute_input": "2024-05-07T21:17:21.307667Z",
     "iopub.status.busy": "2024-05-07T21:17:21.306777Z",
     "iopub.status.idle": "2024-05-07T21:17:21.340553Z",
     "shell.execute_reply": "2024-05-07T21:17:21.339394Z"
    },
    "papermill": {
     "duration": 0.043453,
     "end_time": "2024-05-07T21:17:21.342979",
     "exception": false,
     "start_time": "2024-05-07T21:17:21.299526",
     "status": "completed"
    },
    "tags": []
   },
   "outputs": [
    {
     "data": {
      "text/html": [
       "<div>\n",
       "<style scoped>\n",
       "    .dataframe tbody tr th:only-of-type {\n",
       "        vertical-align: middle;\n",
       "    }\n",
       "\n",
       "    .dataframe tbody tr th {\n",
       "        vertical-align: top;\n",
       "    }\n",
       "\n",
       "    .dataframe thead th {\n",
       "        text-align: right;\n",
       "    }\n",
       "</style>\n",
       "<table border=\"1\" class=\"dataframe\">\n",
       "  <thead>\n",
       "    <tr style=\"text-align: right;\">\n",
       "      <th></th>\n",
       "      <th>FIVE</th>\n",
       "      <th>FOUR</th>\n",
       "      <th>THREE</th>\n",
       "      <th>TWO</th>\n",
       "      <th>ONE</th>\n",
       "      <th>TOTAL_REV</th>\n",
       "      <th>OVERALL</th>\n",
       "      <th>CP</th>\n",
       "    </tr>\n",
       "  </thead>\n",
       "  <tbody>\n",
       "    <tr>\n",
       "      <th>count</th>\n",
       "      <td>15.000000</td>\n",
       "      <td>15.000000</td>\n",
       "      <td>15.000000</td>\n",
       "      <td>15.000000</td>\n",
       "      <td>15.000000</td>\n",
       "      <td>15.000000</td>\n",
       "      <td>15.000000</td>\n",
       "      <td>1.500000e+01</td>\n",
       "    </tr>\n",
       "    <tr>\n",
       "      <th>mean</th>\n",
       "      <td>411.933333</td>\n",
       "      <td>127.000000</td>\n",
       "      <td>67.533333</td>\n",
       "      <td>33.533333</td>\n",
       "      <td>33.000000</td>\n",
       "      <td>673.000000</td>\n",
       "      <td>4.252149</td>\n",
       "      <td>8.378917e+06</td>\n",
       "    </tr>\n",
       "    <tr>\n",
       "      <th>std</th>\n",
       "      <td>474.541804</td>\n",
       "      <td>159.059288</td>\n",
       "      <td>91.325843</td>\n",
       "      <td>39.858440</td>\n",
       "      <td>38.646752</td>\n",
       "      <td>785.147484</td>\n",
       "      <td>0.387561</td>\n",
       "      <td>6.195596e+06</td>\n",
       "    </tr>\n",
       "    <tr>\n",
       "      <th>min</th>\n",
       "      <td>9.000000</td>\n",
       "      <td>4.000000</td>\n",
       "      <td>1.000000</td>\n",
       "      <td>2.000000</td>\n",
       "      <td>0.000000</td>\n",
       "      <td>22.000000</td>\n",
       "      <td>3.590909</td>\n",
       "      <td>8.217520e+05</td>\n",
       "    </tr>\n",
       "    <tr>\n",
       "      <th>25%</th>\n",
       "      <td>116.000000</td>\n",
       "      <td>7.500000</td>\n",
       "      <td>3.500000</td>\n",
       "      <td>3.000000</td>\n",
       "      <td>4.000000</td>\n",
       "      <td>146.500000</td>\n",
       "      <td>3.956978</td>\n",
       "      <td>8.217520e+05</td>\n",
       "    </tr>\n",
       "    <tr>\n",
       "      <th>50%</th>\n",
       "      <td>223.000000</td>\n",
       "      <td>61.000000</td>\n",
       "      <td>34.000000</td>\n",
       "      <td>22.000000</td>\n",
       "      <td>17.000000</td>\n",
       "      <td>261.000000</td>\n",
       "      <td>4.212121</td>\n",
       "      <td>8.855000e+06</td>\n",
       "    </tr>\n",
       "    <tr>\n",
       "      <th>75%</th>\n",
       "      <td>557.000000</td>\n",
       "      <td>182.000000</td>\n",
       "      <td>95.500000</td>\n",
       "      <td>51.000000</td>\n",
       "      <td>56.000000</td>\n",
       "      <td>904.500000</td>\n",
       "      <td>4.594357</td>\n",
       "      <td>1.546000e+07</td>\n",
       "    </tr>\n",
       "    <tr>\n",
       "      <th>max</th>\n",
       "      <td>1637.000000</td>\n",
       "      <td>519.000000</td>\n",
       "      <td>274.000000</td>\n",
       "      <td>135.000000</td>\n",
       "      <td>127.000000</td>\n",
       "      <td>2586.000000</td>\n",
       "      <td>4.824818</td>\n",
       "      <td>1.546000e+07</td>\n",
       "    </tr>\n",
       "  </tbody>\n",
       "</table>\n",
       "</div>"
      ],
      "text/plain": [
       "              FIVE        FOUR       THREE         TWO         ONE  \\\n",
       "count    15.000000   15.000000   15.000000   15.000000   15.000000   \n",
       "mean    411.933333  127.000000   67.533333   33.533333   33.000000   \n",
       "std     474.541804  159.059288   91.325843   39.858440   38.646752   \n",
       "min       9.000000    4.000000    1.000000    2.000000    0.000000   \n",
       "25%     116.000000    7.500000    3.500000    3.000000    4.000000   \n",
       "50%     223.000000   61.000000   34.000000   22.000000   17.000000   \n",
       "75%     557.000000  182.000000   95.500000   51.000000   56.000000   \n",
       "max    1637.000000  519.000000  274.000000  135.000000  127.000000   \n",
       "\n",
       "         TOTAL_REV    OVERALL            CP  \n",
       "count    15.000000  15.000000  1.500000e+01  \n",
       "mean    673.000000   4.252149  8.378917e+06  \n",
       "std     785.147484   0.387561  6.195596e+06  \n",
       "min      22.000000   3.590909  8.217520e+05  \n",
       "25%     146.500000   3.956978  8.217520e+05  \n",
       "50%     261.000000   4.212121  8.855000e+06  \n",
       "75%     904.500000   4.594357  1.546000e+07  \n",
       "max    2586.000000   4.824818  1.546000e+07  "
      ]
     },
     "execution_count": 6,
     "metadata": {},
     "output_type": "execute_result"
    }
   ],
   "source": [
    "df.describe()"
   ]
  },
  {
   "cell_type": "markdown",
   "id": "69668b15",
   "metadata": {
    "papermill": {
     "duration": 0.005581,
     "end_time": "2024-05-07T21:17:21.354662",
     "exception": false,
     "start_time": "2024-05-07T21:17:21.349081",
     "status": "completed"
    },
    "tags": []
   },
   "source": [
    "### Do people tend to go to fancy restaurants with multi-sensory experiences?"
   ]
  },
  {
   "cell_type": "code",
   "execution_count": 7,
   "id": "7b14097f",
   "metadata": {
    "execution": {
     "iopub.execute_input": "2024-05-07T21:17:21.369025Z",
     "iopub.status.busy": "2024-05-07T21:17:21.368525Z",
     "iopub.status.idle": "2024-05-07T21:17:21.402631Z",
     "shell.execute_reply": "2024-05-07T21:17:21.401609Z"
    },
    "papermill": {
     "duration": 0.044594,
     "end_time": "2024-05-07T21:17:21.405090",
     "exception": false,
     "start_time": "2024-05-07T21:17:21.360496",
     "status": "completed"
    },
    "tags": []
   },
   "outputs": [
    {
     "data": {
      "text/html": [
       "<div>\n",
       "<style scoped>\n",
       "    .dataframe tbody tr th:only-of-type {\n",
       "        vertical-align: middle;\n",
       "    }\n",
       "\n",
       "    .dataframe tbody tr th {\n",
       "        vertical-align: top;\n",
       "    }\n",
       "\n",
       "    .dataframe thead th {\n",
       "        text-align: right;\n",
       "    }\n",
       "</style>\n",
       "<table border=\"1\" class=\"dataframe\">\n",
       "  <thead>\n",
       "    <tr style=\"text-align: right;\">\n",
       "      <th></th>\n",
       "      <th>count</th>\n",
       "      <th>mean</th>\n",
       "      <th>std</th>\n",
       "      <th>min</th>\n",
       "      <th>25%</th>\n",
       "      <th>50%</th>\n",
       "      <th>75%</th>\n",
       "      <th>max</th>\n",
       "    </tr>\n",
       "    <tr>\n",
       "      <th>COUNTRY</th>\n",
       "      <th></th>\n",
       "      <th></th>\n",
       "      <th></th>\n",
       "      <th></th>\n",
       "      <th></th>\n",
       "      <th></th>\n",
       "      <th></th>\n",
       "      <th></th>\n",
       "    </tr>\n",
       "  </thead>\n",
       "  <tbody>\n",
       "    <tr>\n",
       "      <th>MEXICO</th>\n",
       "      <td>5.0</td>\n",
       "      <td>1102.6</td>\n",
       "      <td>925.571067</td>\n",
       "      <td>156.0</td>\n",
       "      <td>546.0</td>\n",
       "      <td>1012.0</td>\n",
       "      <td>1213.0</td>\n",
       "      <td>2586.0</td>\n",
       "    </tr>\n",
       "    <tr>\n",
       "      <th>NETHERLANDS</th>\n",
       "      <td>5.0</td>\n",
       "      <td>203.2</td>\n",
       "      <td>335.346388</td>\n",
       "      <td>22.0</td>\n",
       "      <td>27.0</td>\n",
       "      <td>33.0</td>\n",
       "      <td>137.0</td>\n",
       "      <td>797.0</td>\n",
       "    </tr>\n",
       "    <tr>\n",
       "      <th>TURKEY</th>\n",
       "      <td>5.0</td>\n",
       "      <td>713.2</td>\n",
       "      <td>824.532413</td>\n",
       "      <td>238.0</td>\n",
       "      <td>244.0</td>\n",
       "      <td>261.0</td>\n",
       "      <td>672.0</td>\n",
       "      <td>2151.0</td>\n",
       "    </tr>\n",
       "  </tbody>\n",
       "</table>\n",
       "</div>"
      ],
      "text/plain": [
       "             count    mean         std    min    25%     50%     75%     max\n",
       "COUNTRY                                                                     \n",
       "MEXICO         5.0  1102.6  925.571067  156.0  546.0  1012.0  1213.0  2586.0\n",
       "NETHERLANDS    5.0   203.2  335.346388   22.0   27.0    33.0   137.0   797.0\n",
       "TURKEY         5.0   713.2  824.532413  238.0  244.0   261.0   672.0  2151.0"
      ]
     },
     "execution_count": 7,
     "metadata": {},
     "output_type": "execute_result"
    }
   ],
   "source": [
    "df.groupby('COUNTRY')['TOTAL_REV'].describe()"
   ]
  },
  {
   "cell_type": "markdown",
   "id": "4eecfeff",
   "metadata": {
    "papermill": {
     "duration": 0.005827,
     "end_time": "2024-05-07T21:17:21.417154",
     "exception": false,
     "start_time": "2024-05-07T21:17:21.411327",
     "status": "completed"
    },
    "tags": []
   },
   "source": [
    "In the dataset under analysis, there is a preliminary indication that Mexico exhibits a higher propensity for patronizing multi-sensory restaurant experiences. However, to derive a more accurate comparison, it is imperative to consider the populations of each country. Consequently, we will compute a ratio that delineates the relative frequency of visits to these types of restaurants per capita. This metric will enable us to ascertain which country demonstrates a higher per capita preference for multi-sensory dining experiences."
   ]
  },
  {
   "cell_type": "code",
   "execution_count": 8,
   "id": "8efdae35",
   "metadata": {
    "execution": {
     "iopub.execute_input": "2024-05-07T21:17:21.431608Z",
     "iopub.status.busy": "2024-05-07T21:17:21.430768Z",
     "iopub.status.idle": "2024-05-07T21:17:21.443326Z",
     "shell.execute_reply": "2024-05-07T21:17:21.442322Z"
    },
    "papermill": {
     "duration": 0.022162,
     "end_time": "2024-05-07T21:17:21.445423",
     "exception": false,
     "start_time": "2024-05-07T21:17:21.423261",
     "status": "completed"
    },
    "tags": []
   },
   "outputs": [],
   "source": [
    "RATIOS = df.groupby('COUNTRY').agg({'TOTAL_REV':'sum', 'CP':'first'})"
   ]
  },
  {
   "cell_type": "code",
   "execution_count": 9,
   "id": "df7edd12",
   "metadata": {
    "execution": {
     "iopub.execute_input": "2024-05-07T21:17:21.459515Z",
     "iopub.status.busy": "2024-05-07T21:17:21.458737Z",
     "iopub.status.idle": "2024-05-07T21:17:21.465357Z",
     "shell.execute_reply": "2024-05-07T21:17:21.464333Z"
    },
    "papermill": {
     "duration": 0.016018,
     "end_time": "2024-05-07T21:17:21.467580",
     "exception": false,
     "start_time": "2024-05-07T21:17:21.451562",
     "status": "completed"
    },
    "tags": []
   },
   "outputs": [],
   "source": [
    "RATIOS['RATIOS'] = RATIOS['TOTAL_REV']/np.log(RATIOS['CP'])"
   ]
  },
  {
   "cell_type": "code",
   "execution_count": 10,
   "id": "08752064",
   "metadata": {
    "execution": {
     "iopub.execute_input": "2024-05-07T21:17:21.481449Z",
     "iopub.status.busy": "2024-05-07T21:17:21.481078Z",
     "iopub.status.idle": "2024-05-07T21:17:21.493134Z",
     "shell.execute_reply": "2024-05-07T21:17:21.492136Z"
    },
    "papermill": {
     "duration": 0.021904,
     "end_time": "2024-05-07T21:17:21.495608",
     "exception": false,
     "start_time": "2024-05-07T21:17:21.473704",
     "status": "completed"
    },
    "tags": []
   },
   "outputs": [
    {
     "data": {
      "text/html": [
       "<div>\n",
       "<style scoped>\n",
       "    .dataframe tbody tr th:only-of-type {\n",
       "        vertical-align: middle;\n",
       "    }\n",
       "\n",
       "    .dataframe tbody tr th {\n",
       "        vertical-align: top;\n",
       "    }\n",
       "\n",
       "    .dataframe thead th {\n",
       "        text-align: right;\n",
       "    }\n",
       "</style>\n",
       "<table border=\"1\" class=\"dataframe\">\n",
       "  <thead>\n",
       "    <tr style=\"text-align: right;\">\n",
       "      <th></th>\n",
       "      <th>COUNTRY</th>\n",
       "      <th>TOTAL_REV</th>\n",
       "      <th>CP</th>\n",
       "      <th>RATIOS</th>\n",
       "    </tr>\n",
       "  </thead>\n",
       "  <tbody>\n",
       "    <tr>\n",
       "      <th>0</th>\n",
       "      <td>MEXICO</td>\n",
       "      <td>5513</td>\n",
       "      <td>8855000</td>\n",
       "      <td>344.638044</td>\n",
       "    </tr>\n",
       "    <tr>\n",
       "      <th>1</th>\n",
       "      <td>NETHERLANDS</td>\n",
       "      <td>1016</td>\n",
       "      <td>821752</td>\n",
       "      <td>74.600597</td>\n",
       "    </tr>\n",
       "    <tr>\n",
       "      <th>2</th>\n",
       "      <td>TURKEY</td>\n",
       "      <td>3566</td>\n",
       "      <td>15460000</td>\n",
       "      <td>215.419251</td>\n",
       "    </tr>\n",
       "  </tbody>\n",
       "</table>\n",
       "</div>"
      ],
      "text/plain": [
       "       COUNTRY  TOTAL_REV        CP      RATIOS\n",
       "0       MEXICO       5513   8855000  344.638044\n",
       "1  NETHERLANDS       1016    821752   74.600597\n",
       "2       TURKEY       3566  15460000  215.419251"
      ]
     },
     "execution_count": 10,
     "metadata": {},
     "output_type": "execute_result"
    }
   ],
   "source": [
    "RATIOS = RATIOS.reset_index()\n",
    "RATIOS"
   ]
  },
  {
   "cell_type": "code",
   "execution_count": 11,
   "id": "a91273cd",
   "metadata": {
    "execution": {
     "iopub.execute_input": "2024-05-07T21:17:21.510254Z",
     "iopub.status.busy": "2024-05-07T21:17:21.509594Z",
     "iopub.status.idle": "2024-05-07T21:17:21.776394Z",
     "shell.execute_reply": "2024-05-07T21:17:21.775381Z"
    },
    "papermill": {
     "duration": 0.276957,
     "end_time": "2024-05-07T21:17:21.779072",
     "exception": false,
     "start_time": "2024-05-07T21:17:21.502115",
     "status": "completed"
    },
    "tags": []
   },
   "outputs": [
    {
     "data": {
      "image/png": "[encoded data removed]",
      "text/plain": [
       "<Figure size 1000x600 with 1 Axes>"
      ]
     },
     "metadata": {},
     "output_type": "display_data"
    }
   ],
   "source": [
    "plt.figure(figsize=(10,6))\n",
    "barplot = sns.barplot(x= 'COUNTRY', y= 'RATIOS', data= RATIOS,  palette=['#8FBC8F', '#FFDAB9', '#FF6347'])\n",
    "plt.title('Comparison of Multi-Sensory Dining Experience Ratios by Country', fontsize=16)\n",
    "plt.xlabel('Country', fontsize=14)\n",
    "plt.ylabel('Ratio of Visits per Natural Log of Population', fontsize=14)\n",
    "plt.grid(True, which='both', axis='y', linestyle='-', linewidth=0.5)\n",
    "for p in barplot.patches:\n",
    "    barplot.annotate(format(p.get_height(), '.2f'), \n",
    "                     (p.get_x() + p.get_width() / 2., p.get_height()), \n",
    "                     ha = 'center', va = 'center', \n",
    "                     xytext = (0, 9), \n",
    "                     textcoords = 'offset points')\n",
    "plt.show()"
   ]
  },
  {
   "cell_type": "markdown",
   "id": "fc4b429f",
   "metadata": {
    "papermill": {
     "duration": 0.006736,
     "end_time": "2024-05-07T21:17:21.792783",
     "exception": false,
     "start_time": "2024-05-07T21:17:21.786047",
     "status": "completed"
    },
    "tags": []
   },
   "source": [
    "The graph compares per capita visits to multi-sensory dining experiences in Mexico, the Netherlands, and Turkey, adjusted by the natural log of their populations. Mexico shows the highest engagement, suggesting a strong preference or greater availability of such experiences compared to the other countries. Turkey follows, with moderate engagement, while the Netherlands has the lowest ratio, possibly indicating fewer such dining opportunities or differing consumer preferences."
   ]
  },
  {
   "cell_type": "markdown",
   "id": "ee906552",
   "metadata": {
    "papermill": {
     "duration": 0.006666,
     "end_time": "2024-05-07T21:17:21.806554",
     "exception": false,
     "start_time": "2024-05-07T21:17:21.799888",
     "status": "completed"
    },
    "tags": []
   },
   "source": [
    "## Do people from these countries like these types of restaurants?"
   ]
  },
  {
   "cell_type": "markdown",
   "id": "3266a10c",
   "metadata": {
    "papermill": {
     "duration": 0.006816,
     "end_time": "2024-05-07T21:17:21.820301",
     "exception": false,
     "start_time": "2024-05-07T21:17:21.813485",
     "status": "completed"
    },
    "tags": []
   },
   "source": [
    "To enhance the clarity of this analysis, we classified restaurant patrons into two categories based on their ratings: those who appreciate the dining experience, represented by ratings of three to five stars, and those who do not favor the experience, indicated by one or two-star reviews"
   ]
  },
  {
   "cell_type": "code",
   "execution_count": 12,
   "id": "8d7339f8",
   "metadata": {
    "execution": {
     "iopub.execute_input": "2024-05-07T21:17:21.836271Z",
     "iopub.status.busy": "2024-05-07T21:17:21.835579Z",
     "iopub.status.idle": "2024-05-07T21:17:21.843849Z",
     "shell.execute_reply": "2024-05-07T21:17:21.842819Z"
    },
    "papermill": {
     "duration": 0.018731,
     "end_time": "2024-05-07T21:17:21.846037",
     "exception": false,
     "start_time": "2024-05-07T21:17:21.827306",
     "status": "completed"
    },
    "tags": []
   },
   "outputs": [],
   "source": [
    "df['positive'] = df['FIVE'] + df['FOUR'] + df['THREE']\n",
    "df['negative'] = df['TWO'] + df['ONE']\n",
    "df['positive_ratio'] = df['positive']/(df['positive'] + df['negative'])"
   ]
  },
  {
   "cell_type": "code",
   "execution_count": 13,
   "id": "cd12eb64",
   "metadata": {
    "execution": {
     "iopub.execute_input": "2024-05-07T21:17:21.862044Z",
     "iopub.status.busy": "2024-05-07T21:17:21.861678Z",
     "iopub.status.idle": "2024-05-07T21:17:21.875220Z",
     "shell.execute_reply": "2024-05-07T21:17:21.874190Z"
    },
    "papermill": {
     "duration": 0.024156,
     "end_time": "2024-05-07T21:17:21.877579",
     "exception": false,
     "start_time": "2024-05-07T21:17:21.853423",
     "status": "completed"
    },
    "tags": []
   },
   "outputs": [
    {
     "data": {
      "text/html": [
       "<div>\n",
       "<style scoped>\n",
       "    .dataframe tbody tr th:only-of-type {\n",
       "        vertical-align: middle;\n",
       "    }\n",
       "\n",
       "    .dataframe tbody tr th {\n",
       "        vertical-align: top;\n",
       "    }\n",
       "\n",
       "    .dataframe thead th {\n",
       "        text-align: right;\n",
       "    }\n",
       "</style>\n",
       "<table border=\"1\" class=\"dataframe\">\n",
       "  <thead>\n",
       "    <tr style=\"text-align: right;\">\n",
       "      <th></th>\n",
       "      <th>COUNTRY</th>\n",
       "      <th>positive_ratio</th>\n",
       "      <th>OVERALL</th>\n",
       "    </tr>\n",
       "  </thead>\n",
       "  <tbody>\n",
       "    <tr>\n",
       "      <th>0</th>\n",
       "      <td>MEXICO</td>\n",
       "      <td>0.892320</td>\n",
       "      <td>4.223345</td>\n",
       "    </tr>\n",
       "    <tr>\n",
       "      <th>1</th>\n",
       "      <td>NETHERLANDS</td>\n",
       "      <td>0.870854</td>\n",
       "      <td>4.281302</td>\n",
       "    </tr>\n",
       "    <tr>\n",
       "      <th>2</th>\n",
       "      <td>TURKEY</td>\n",
       "      <td>0.882539</td>\n",
       "      <td>4.251800</td>\n",
       "    </tr>\n",
       "  </tbody>\n",
       "</table>\n",
       "</div>"
      ],
      "text/plain": [
       "       COUNTRY  positive_ratio   OVERALL\n",
       "0       MEXICO        0.892320  4.223345\n",
       "1  NETHERLANDS        0.870854  4.281302\n",
       "2       TURKEY        0.882539  4.251800"
      ]
     },
     "execution_count": 13,
     "metadata": {},
     "output_type": "execute_result"
    }
   ],
   "source": [
    "positive_ratio_by_country = df.groupby('COUNTRY').agg({\n",
    "    'positive_ratio': 'mean',\n",
    "    'OVERALL': 'mean'\n",
    "}).reset_index()\n",
    "positive_ratio_by_country"
   ]
  },
  {
   "cell_type": "code",
   "execution_count": 14,
   "id": "46711565",
   "metadata": {
    "execution": {
     "iopub.execute_input": "2024-05-07T21:17:21.893950Z",
     "iopub.status.busy": "2024-05-07T21:17:21.893242Z",
     "iopub.status.idle": "2024-05-07T21:17:22.341063Z",
     "shell.execute_reply": "2024-05-07T21:17:22.340018Z"
    },
    "papermill": {
     "duration": 0.459234,
     "end_time": "2024-05-07T21:17:22.344013",
     "exception": false,
     "start_time": "2024-05-07T21:17:21.884779",
     "status": "completed"
    },
    "tags": []
   },
   "outputs": [
    {
     "data": {
      "image/png": "[encoded data removed]",
      "text/plain": [
       "<Figure size 1400x600 with 2 Axes>"
      ]
     },
     "metadata": {},
     "output_type": "display_data"
    }
   ],
   "source": [
    "plt.figure(figsize=(14, 6))\n",
    "\n",
    "plt.subplot(1, 2, 1)\n",
    "sns.barplot(x='COUNTRY', y='positive_ratio', data=positive_ratio_by_country, palette=['#8FBC8F', '#FFDAB9', '#FF6347'])\n",
    "plt.title('Positive Review Ratio by Country')\n",
    "plt.xlabel('Country')\n",
    "plt.ylabel('Proportion of Positive Reviews')\n",
    "plt.ylim(0, 1) \n",
    "plt.grid(True, which='both', axis='y', linestyle='-', alpha=0.5)\n",
    "\n",
    "plt.subplot(1, 2, 2)\n",
    "sns.barplot(x='COUNTRY', y='OVERALL', data=positive_ratio_by_country, palette=['#8FBC8F', '#FFDAB9', '#FF6347'])\n",
    "plt.title('Overall Star Rating by Country')\n",
    "plt.xlabel('Country')\n",
    "plt.ylabel('Average Star Rating')\n",
    "plt.ylim(3, 5) \n",
    "plt.grid(True, which='both', axis='y', linestyle='-', alpha=0.5)\n",
    "\n",
    "# Show the plot\n",
    "plt.tight_layout()\n",
    "plt.show()"
   ]
  },
  {
   "cell_type": "markdown",
   "id": "e3a8f34f",
   "metadata": {
    "papermill": {
     "duration": 0.007531,
     "end_time": "2024-05-07T21:17:22.359579",
     "exception": false,
     "start_time": "2024-05-07T21:17:22.352048",
     "status": "completed"
    },
    "tags": []
   },
   "source": [
    "## Conclusion"
   ]
  },
  {
   "cell_type": "markdown",
   "id": "e826b09d",
   "metadata": {
    "papermill": {
     "duration": 0.007583,
     "end_time": "2024-05-07T21:17:22.375042",
     "exception": false,
     "start_time": "2024-05-07T21:17:22.367459",
     "status": "completed"
    },
    "tags": []
   },
   "source": [
    "Based on the comprehensive analysis of the positive review ratios, overall star ratings, and the ratio of visits per natural log of the population, Mexico emerges as the optimal location for launching a luxury multi-sensory dining experience. While the Netherlands boasts the highest average star rating, Mexico leads in both the proportion of positive reviews and the visitation ratio. This suggests not only a strong existing appreciation for such unique dining experiences but also a greater relative frequency of visits per capita, adjusted for population size.\n",
    "\n",
    "The combination of high engagement and favorable reviews in Mexico indicates a robust potential market for luxury dining. Investing in Mexico could leverage this enthusiasm, promising a receptive audience and a successful venture in the realm of multi-sensory gastronomy. This strategic positioning makes Mexico the most favorable choice among the evaluated countries for introducing a high-end restaurant that capitalizes on innovative and immersive dining experiences."
   ]
  }
 ],
 "metadata": {
  "kaggle": {
   "accelerator": "none",
   "dataSources": [
    {
     "datasetId": 4961432,
     "sourceId": 8350726,
     "sourceType": "datasetVersion"
    }
   ],
   "dockerImageVersionId": 30698,
   "isGpuEnabled": false,
   "isInternetEnabled": true,
   "language": "python",
   "sourceType": "notebook"
  },
  "kernelspec": {
   "display_name": "Python 3",
   "language": "python",
   "name": "python3"
  },
  "language_info": {
   "codemirror_mode": {
    "name": "ipython",
    "version": 3
   },
   "file_extension": ".py",
   "mimetype": "text/x-python",
   "name": "python",
   "nbconvert_exporter": "python",
   "pygments_lexer": "ipython3",
   "version": "3.10.13"
  },
  "papermill": {
   "default_parameters": {},
   "duration": 6.80999,
   "end_time": "2024-05-07T21:17:23.003959",
   "environment_variables": {},
   "exception": null,
   "input_path": "__notebook__.ipynb",
   "output_path": "__notebook__.ipynb",
   "parameters": {},
   "start_time": "2024-05-07T21:17:16.193969",
   "version": "2.5.0"
  }
 },
 "nbformat": 4,
 "nbformat_minor": 5
}
